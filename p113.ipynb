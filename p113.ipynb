{
  "nbformat": 4,
  "nbformat_minor": 0,
  "metadata": {
    "colab": {
      "name": "p113",
      "provenance": [],
      "authorship_tag": "ABX9TyMTyngnfnNhFtmh0bEvvUR7",
      "include_colab_link": true
    },
    "kernelspec": {
      "name": "python3",
      "display_name": "Python 3"
    },
    "language_info": {
      "name": "python"
    }
  },
  "cells": [
    {
      "cell_type": "markdown",
      "metadata": {
        "id": "view-in-github",
        "colab_type": "text"
      },
      "source": [
        "<a href=\"https://colab.research.google.com/github/DeepaDidharia/p113/blob/main/p113.ipynb\" target=\"_parent\"><img src=\"https://colab.research.google.com/assets/colab-badge.svg\" alt=\"Open In Colab\"/></a>"
      ]
    },
    {
      "cell_type": "code",
      "source": [
        "import pandas as pd\n",
        "import statistics\n",
        "import plotly.express as px"
      ],
      "metadata": {
        "id": "Sh1E0aA8PjfB"
      },
      "execution_count": null,
      "outputs": []
    },
    {
      "cell_type": "code",
      "source": [
        "df = pd.read_csv(\"data.csv\")\n",
        "fig = px.scatter(df, y=\"quant_saved\", color=\"wealthy\")\n",
        "fig.show()"
      ],
      "metadata": {
        "id": "FlIi4_Y6Plud"
      },
      "execution_count": null,
      "outputs": []
    },
    {
      "cell_type": "code",
      "source": [
        "import csv\n",
        "\n",
        "with open('data.csv', newline=\"\") as f:\n",
        "  reader = csv.reader(f)\n",
        "  savings_data = list(reader)\n",
        "\n",
        "savings_data.pop(0)\n",
        "\n",
        "#Finding total number of people and number of people who were reminded\n",
        "total_entries = len(savings_data)\n",
        "total_people_given_reminder = 0\n",
        "for data in savings_data:\n",
        "  if int(data[3]) == 1:\n",
        "    total_people_given_reminder += 1\n",
        "\n",
        "import plotly.graph_objects as go\n",
        "\n",
        "fig = go.Figure(go.Bar(x=[\"Reminded\", \"Not Reminded\"], y=[total_people_given_reminder, (total_entries - total_people_given_reminder)]))\n",
        "\n",
        "fig.show()"
      ],
      "metadata": {
        "id": "z5zO0hqvPpAI"
      },
      "execution_count": null,
      "outputs": []
    },
    {
      "cell_type": "code",
      "source": [
        "all_savings = []\n",
        "for data in savings_data:\n",
        "  all_savings.append(float(data[0]))\n",
        "\n",
        "print(f\"Mean of savings - {statistics.mean(all_savings)}\")\n",
        "print(f\"Median of savings - {statistics.median(all_savings)}\")\n",
        "print(f\"Mode of savings - {statistics.mode(all_savings)}\")"
      ],
      "metadata": {
        "id": "oE8_2UTMQabt"
      },
      "execution_count": null,
      "outputs": []
    },
    {
      "cell_type": "code",
      "source": [
        "reminded_savings = []\n",
        "not_reminded_savings = []\n",
        "for data in savings_data:\n",
        "  if int(data[3]) == 1:\n",
        "    reminded_savings.append(float(data[0]))\n",
        "  else:\n",
        "    not_reminded_savings.append(float(data[0]))\n",
        "\n",
        "print(\"Results for people who were reminded to save\")\n",
        "print(f\"Mean of savings - {statistics.mean(reminded_savings)}\")\n",
        "print(f\"Median of savings - {statistics.median(reminded_savings)}\")\n",
        "print(f\"Mode of savings - {statistics.mode(reminded_savings)}\")\n",
        "print(\"\\n\\n\")\n",
        "print(\"Results for people who were not reminded to save\")\n",
        "print(f\"Mean of savings - {statistics.mean(not_reminded_savings)}\")\n",
        "print(f\"Median of savings - {statistics.median(not_reminded_savings)}\")\n",
        "print(f\"Mode of savings - {statistics.mode(not_reminded_savings)}\")"
      ],
      "metadata": {
        "id": "WnWpnEhOQhIS"
      },
      "execution_count": null,
      "outputs": []
    },
    {
      "cell_type": "code",
      "source": [
        "print(f\"Standard deviation of all the data -> {statistics.stdev(all_savings)}\")\n",
        "print(f\"Standard deviation of people who were reminded -> {statistics.stdev(reminded_savings)}\")\n",
        "print(f\"Standard deviation of people who were not reminded -> {statistics.stdev(not_reminded_savings)}\")"
      ],
      "metadata": {
        "id": "jt7Idm2nQjbc"
      },
      "execution_count": null,
      "outputs": []
    },
    {
      "cell_type": "code",
      "source": [
        "import plotly.figure_factory as ff\n",
        "\n",
        "fig = ff.create_distplot([df[\"quant_saved\"].tolist()], [\"Savings\"], show_hist=False)\n",
        "fig.show()"
      ],
      "metadata": {
        "id": "0-eO1HTbQosp"
      },
      "execution_count": null,
      "outputs": []
    },
    {
      "cell_type": "code",
      "source": [
        "q1 = df[\"quant_saved\"].quantile(0.25)\n",
        "q3 = df[\"quant_saved\"].quantile(0.75)\n",
        "iqr = q3-q1\n",
        "\n",
        "print(f\"Q1 - {q1}\")\n",
        "print(f\"Q3 - {q3}\")\n",
        "print(f\"IQR - {iqr}\")\n",
        "\n",
        "lower_whisker = q1 - 1.5*iqr\n",
        "upper_whisker = q3 + 1.5*iqr\n",
        "\n",
        "print(f\"Lower Whisker - {lower_whisker}\")\n",
        "print(f\"Upper Whisker - {upper_whisker}\")\n",
        "\n",
        "#Creating a new DataFrame\n",
        "new_df = df[df[\"quant_saved\"] < upper_whisker]"
      ],
      "metadata": {
        "id": "-9edKzU5Qtar"
      },
      "execution_count": null,
      "outputs": []
    },
    {
      "cell_type": "code",
      "source": [
        "all_savings = new_df[\"quant_saved\"].tolist()\n",
        "\n",
        "print(f\"Mean of savings - {statistics.mean(all_savings)}\")\n",
        "print(f\"Median of savings - {statistics.median(all_savings)}\")\n",
        "print(f\"Mode of savings - {statistics.mode(all_savings)}\")\n",
        "print(f\"Standard deviation in savings - {statistics.stdev(all_savings)}\")\n",
        "\n",
        "fig = ff.create_distplot([new_df[\"quant_saved\"].tolist()], [\"Savings\"], show_hist=False)\n",
        "fig.show()"
      ],
      "metadata": {
        "id": "ME85AwdGQvrM"
      },
      "execution_count": null,
      "outputs": []
    },
    {
      "cell_type": "code",
      "source": [
        "import random\n",
        "\n",
        "sampling_mean_list = []\n",
        "for i in range(1000):\n",
        "  temp_list = []\n",
        "  for j in range(100):\n",
        "    temp_list.append(random.choice(all_savings))\n",
        "  sampling_mean_list.append(statistics.mean(temp_list))\n",
        "\n",
        "mean_sampling = statistics.mean(sampling_mean_list)\n",
        "\n",
        "fig = ff.create_distplot([sampling_mean_list], [\"Savings (Sampling)\"], show_hist=False)\n",
        "fig.add_trace(go.Scatter(x=[mean_sampling, mean_sampling], y=[0, 0.1], mode=\"lines\", name=\"MEAN\"))\n",
        "fig.show()"
      ],
      "metadata": {
        "id": "nvWKrleTQyGQ"
      },
      "execution_count": null,
      "outputs": []
    },
    {
      "cell_type": "code",
      "source": [
        "print(f\"Standard deviation of the sampling data - {statistics.stdev(sampling_mean_list)}\")\n",
        "print(f\"Mean of Population - {statistics.mean(all_savings)}\")\n",
        "print(f\"Mean of Sampling Distribution - {mean_sampling}\")"
      ],
      "metadata": {
        "id": "vRm6GuQBQ2ZU"
      },
      "execution_count": null,
      "outputs": []
    },
    {
      "cell_type": "code",
      "source": [
        "temp_df = new_df[new_df.age != 0]\n",
        "\n",
        "age = temp_df[\"wealthy\"].tolist()\n",
        "savings = temp_df[\"quant_saved\"].tolist()\n",
        "\n",
        "correlation = np.corrcoef(age, savings)\n",
        "print(f\"Correlation between the age of the person and their savings is - {correlation[0,1]}\")"
      ],
      "metadata": {
        "id": "h5pipoCaSqnh"
      },
      "execution_count": null,
      "outputs": []
    },
    {
      "cell_type": "code",
      "source": [
        "reminded_df = new_df.loc[new_df[\"wealthy\"] == 1]\n",
        "not_reminded_df = new_df.loc[new_df[\"wealthy\"] == 0]\n",
        "\n",
        "print(reminded_df.head())\n",
        "print(not_reminded_df.head())\n",
        "\n",
        "fig = ff.create_distplot([not_reminded_df[\"quant_saved\"].tolist()], [\"Savings (Not Reminded)\"], show_hist=False)\n",
        "fig.show()"
      ],
      "metadata": {
        "id": "EHwC0hVkS2sK"
      },
      "execution_count": null,
      "outputs": []
    },
    {
      "cell_type": "code",
      "source": [
        "not_reminded_savings = not_reminded_df[\"quant_saved\"].tolist()\n",
        "\n",
        "sampling_mean_list_not_reminded = []\n",
        "for i in range(1000):\n",
        "  temp_list = []\n",
        "  for j in range(100):\n",
        "    temp_list.append(random.choice(not_reminded_savings))\n",
        "  sampling_mean_list_not_reminded.append(statistics.mean(temp_list))\n",
        "\n",
        "mean_sampling_not_reminded = statistics.mean(sampling_mean_list_not_reminded)\n",
        "stdev_sampling_not_reminded = statistics.stdev(sampling_mean_list_not_reminded)\n",
        "\n",
        "print(f\"Mean of Sampling (Not Reminded) -> {mean_sampling_not_reminded}\")\n",
        "print(f\"Standard Deviation of Sampling (Not Reminded) -> {stdev_sampling_not_reminded}\")\n",
        "fig = ff.create_distplot([sampling_mean_list_not_reminded], [\"Savings (Sampling)\"], show_hist=False)\n",
        "fig.add_trace(go.Scatter(x=[mean_sampling, mean_sampling], y=[0, 0.1], mode=\"lines\", name=\"MEAN\"))\n",
        "fig.show()"
      ],
      "metadata": {
        "id": "W3YjVnBnRO_V"
      },
      "execution_count": null,
      "outputs": []
    },
    {
      "cell_type": "code",
      "source": [
        "first_std_deviation_start = mean_sampling_not_reminded-stdev_sampling_not_reminded\n",
        "first_std_deviation_end = mean_sampling_not_reminded+stdev_sampling_not_reminded\n",
        "print(f\"First (start) - {first_std_deviation_start} and First (end) - {first_std_deviation_end}\")\n",
        "\n",
        "second_std_deviation_start = mean_sampling_not_reminded-(2*stdev_sampling_not_reminded)\n",
        "second_std_deviation_end = mean_sampling_not_reminded+(2*stdev_sampling_not_reminded)\n",
        "print(f\"Second (start) - {second_std_deviation_start} and Second (end) - {second_std_deviation_end}\")\n",
        "\n",
        "third_std_deviation_start = mean_sampling_not_reminded-(3*stdev_sampling_not_reminded)\n",
        "third_std_deviation_end = mean_sampling_not_reminded+(3*stdev_sampling_not_reminded)\n",
        "print(f\"Third (start) - {third_std_deviation_start} and Third (end) - {third_std_deviation_end}\")"
      ],
      "metadata": {
        "id": "Idl7U9tkRSx3"
      },
      "execution_count": null,
      "outputs": []
    },
    {
      "cell_type": "code",
      "source": [
        "reminded_savings = reminded_df[\"quant_saved\"].tolist()\n",
        "\n",
        "sampling_mean_list_reminded = []\n",
        "for i in range(1000):\n",
        "  temp_list = []\n",
        "  for j in range(100):\n",
        "    temp_list.append(random.choice(reminded_savings))\n",
        "  sampling_mean_list_reminded.append(statistics.mean(temp_list))\n",
        "\n",
        "mean_sampling_reminded = statistics.mean(sampling_mean_list_reminded)\n",
        "stdev_sampling_reminded = statistics.stdev(sampling_mean_list_reminded)\n",
        "\n",
        "print(f\"Mean of Sampling (Reminded) -> {mean_sampling_reminded}\")\n",
        "print(f\"Standard Deviation of Sampling (Reminded) -> {stdev_sampling_reminded}\")\n",
        "fig = ff.create_distplot([sampling_mean_list_reminded], [\"Savings (Sampling)\"], show_hist=False)\n",
        "fig.add_trace(go.Scatter(x=[mean_sampling, mean_sampling], y=[0, 0.1], mode=\"lines\", name=\"MEAN\"))\n",
        "fig.show()"
      ],
      "metadata": {
        "id": "tAP3cZIhRWEd"
      },
      "execution_count": null,
      "outputs": []
    },
    {
      "cell_type": "code",
      "source": [
        "z_score = (mean_sampling_reminded - mean_sampling_not_reminded) / stdev_sampling_not_reminded\n",
        "print(f\"Z-Score is - {z_score}\")"
      ],
      "metadata": {
        "colab": {
          "base_uri": "https://localhost:8080/"
        },
        "id": "xzk9dHVrRX_z",
        "outputId": "bffd6449-7976-4789-9f7a-56023a6a3181"
      },
      "execution_count": null,
      "outputs": [
        {
          "output_type": "stream",
          "name": "stdout",
          "text": [
            "Z-Score is - 0.47452933538894765\n"
          ]
        }
      ]
    }
  ]
}